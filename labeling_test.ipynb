{
 "cells": [
  {
   "cell_type": "code",
   "execution_count": 104,
   "id": "25cfe05a-9e6c-4cfd-84b3-7f531efd4788",
   "metadata": {},
   "outputs": [
    {
     "name": "stdout",
     "output_type": "stream",
     "text": [
      "지질 시대(地質時代)는 지구가 생긴 이후부터의 지구의 역사를 나타낸다.\n",
      "\n",
      "아래 표는 국제 층서 위원회의 시대 구분을 따른다.\n",
      "\n",
      "그리고 각 시대에 사용된 색은 미국 지리 연구소의 표준색상을 따랐다.\n",
      "\n",
      "현재 이론에 따르면 지구는 약 45억 7천만 년 전에 만들어졌다고 생각하고 있다.\n",
      "\n",
      "지구의 역사는 여러가지 기준으로 묶일 수 있다.\n",
      "\n",
      "각 시대는 지질학이나 고생물학에서의 주요 사건(생물의 대량 멸종 등)을 기준으로 나뉜다.\n",
      "\n",
      "예컨대 백악기와 팔레오세는 공룡 멸종의 이전과 이후를 기준으로 나뉜다.\n",
      "\n",
      "\n"
     ]
    }
   ],
   "source": [
    "text = open('./test_data/jijil.txt','r')\n",
    "total = ''\n",
    "from collections import defaultdict\n",
    "line_idx = 1\n",
    "init_len = 0\n",
    "def return_dict():\n",
    "    return {'idx':[], 'ent':[]}\n",
    "line_info = defaultdict(return_dict)\n",
    "while True:\n",
    "    line = text.readline()#.rstrip()\n",
    "    print(line)\n",
    "    total += line\n",
    "    line_info[line_idx]['idx'] = (init_len, init_len+len(line))\n",
    "    line_idx += 1\n",
    "    init_len = init_len+len(line)\n",
    "    if not line:\n",
    "        break"
   ]
  },
  {
   "cell_type": "code",
   "execution_count": 15,
   "id": "726d5b74-5cb1-41f6-873b-82176e2b967b",
   "metadata": {},
   "outputs": [],
   "source": [
    "import json\n",
    "with open('./test_data/jijil.json','r') as f:\n",
    "    json_data = json.load(f)\n"
   ]
  },
  {
   "cell_type": "code",
   "execution_count": 17,
   "id": "706a516a-9930-4937-bb26-d2dce8ea49f4",
   "metadata": {},
   "outputs": [
    {
     "data": {
      "text/plain": [
       "dict_keys(['annotatable', 'anncomplete', 'sources', 'metas', 'entities', 'relations'])"
      ]
     },
     "execution_count": 17,
     "metadata": {},
     "output_type": "execute_result"
    }
   ],
   "source": [
    "json_data.keys()"
   ]
  },
  {
   "cell_type": "code",
   "execution_count": 22,
   "id": "4e7c0580-0c05-433e-a088-6416b2684631",
   "metadata": {},
   "outputs": [
    {
     "data": {
      "text/plain": [
       "dict_keys(['classId', 'part', 'offsets', 'coordinates', 'confidence', 'fields', 'normalizations'])"
      ]
     },
     "execution_count": 22,
     "metadata": {},
     "output_type": "execute_result"
    }
   ],
   "source": [
    "json_data['entities'][0].keys()"
   ]
  },
  {
   "cell_type": "code",
   "execution_count": 46,
   "id": "425f1245-8df6-41af-8a97-279b530fd0a3",
   "metadata": {},
   "outputs": [
    {
     "data": {
      "text/plain": [
       "['s1v1', 'e_145', '207,215']"
      ]
     },
     "execution_count": 46,
     "metadata": {},
     "output_type": "execute_result"
    }
   ],
   "source": [
    "json_data['relations'][0]['entities'][1].split('|')"
   ]
  },
  {
   "cell_type": "code",
   "execution_count": 27,
   "id": "d346a5ec-42a2-4ee3-a355-971e99009a49",
   "metadata": {},
   "outputs": [
    {
     "data": {
      "text/plain": [
       "['s1v1', 'e_91', '183,184']"
      ]
     },
     "execution_count": 27,
     "metadata": {},
     "output_type": "execute_result"
    }
   ],
   "source": [
    "json_data['relations'][0]['entities'][0].split('|')"
   ]
  },
  {
   "cell_type": "code",
   "execution_count": 31,
   "id": "30f32a87-9972-4e23-ada9-2054a5229eba",
   "metadata": {},
   "outputs": [
    {
     "name": "stdout",
     "output_type": "stream",
     "text": [
      "183\n",
      "184\n"
     ]
    }
   ],
   "source": [
    "vals = json_data['relations'][0]['entities'][0].split('|')[-1].split(',')\n",
    "print(vals[0])\n",
    "print(vals[1])"
   ]
  },
  {
   "cell_type": "code",
   "execution_count": 43,
   "id": "9264797e-d9ed-475c-9ba3-16f9dae31c94",
   "metadata": {},
   "outputs": [
    {
     "data": {
      "text/plain": [
       "'시대'"
      ]
     },
     "execution_count": 43,
     "metadata": {},
     "output_type": "execute_result"
    }
   ],
   "source": [
    "total[int(vals[0]):int(vals[1])+1]"
   ]
  },
  {
   "cell_type": "code",
   "execution_count": 47,
   "id": "4302be5b-c163-4749-ae28-d5ef4e9b19ae",
   "metadata": {},
   "outputs": [
    {
     "name": "stdout",
     "output_type": "stream",
     "text": [
      "207\n",
      "215\n"
     ]
    }
   ],
   "source": [
    "vals2 = json_data['relations'][0]['entities'][1].split('|')[-1].split(',')\n",
    "print(vals2[0])\n",
    "print(vals2[1])"
   ]
  },
  {
   "cell_type": "code",
   "execution_count": 48,
   "id": "0c975961-6868-4e16-a76a-4602cb0b5543",
   "metadata": {},
   "outputs": [
    {
     "data": {
      "text/plain": [
       "'생물의 대량 멸종'"
      ]
     },
     "execution_count": 48,
     "metadata": {},
     "output_type": "execute_result"
    }
   ],
   "source": [
    "total[int(vals2[0]):int(vals2[1])+1]"
   ]
  },
  {
   "cell_type": "code",
   "execution_count": 49,
   "id": "ce4def7e-4f0f-4240-bab1-3bf6e3c43bcb",
   "metadata": {},
   "outputs": [
    {
     "data": {
      "text/plain": [
       "[{'classId': 'r_155',\n",
       "  'type': 'linked',\n",
       "  'directed': False,\n",
       "  'entities': ['s1v1|e_91|183,184', 's1v1|e_145|207,215'],\n",
       "  'confidence': {'state': 'pre-added', 'who': ['user:kimcando'], 'prob': 1}},\n",
       " {'classId': 'r_155',\n",
       "  'type': 'linked',\n",
       "  'directed': False,\n",
       "  'entities': ['s1v1|e_91|235,237', 's1v1|e_145|246,250'],\n",
       "  'confidence': {'state': 'pre-added', 'who': ['user:kimcando'], 'prob': 1}},\n",
       " {'classId': 'r_183',\n",
       "  'type': 'linked',\n",
       "  'directed': False,\n",
       "  'entities': ['s1v1|e_87|0,4', 's1v1|e_181|6,9'],\n",
       "  'confidence': {'state': 'pre-added', 'who': ['user:kimcando'], 'prob': 1}}]"
      ]
     },
     "execution_count": 49,
     "metadata": {},
     "output_type": "execute_result"
    }
   ],
   "source": [
    "json_data['relations']"
   ]
  },
  {
   "cell_type": "code",
   "execution_count": 124,
   "id": "cc3d2379-bc83-4949-956f-213fc3adcd21",
   "metadata": {},
   "outputs": [
    {
     "name": "stdout",
     "output_type": "stream",
     "text": [
      "지질 시대(地質時代)는 지구가 생긴 이후부터의 지구의 역사를 나타낸다.\n",
      "\n",
      "아래 표는 국제 층서 위원회의 시대 구분을 따른다.\n",
      "\n",
      "그리고 각 시대에 사용된 색은 미국 지리 연구소의 표준색상을 따랐다.\n",
      "\n",
      "현재 이론에 따르면 지구는 약 45억 7천만 년 전에 만들어졌다고 생각하고 있다.\n",
      "\n",
      "지구의 역사는 여러가지 기준으로 묶일 수 있다.\n",
      "\n",
      "각 시대는 지질학이나 고생물학에서의 주요 사건(생물의 대량 멸종 등)을 기준으로 나뉜다.\n",
      "\n",
      "예컨대 백악기와 팔레오세는 공룡 멸종의 이전과 이후를 기준으로 나뉜다.\n",
      "\n"
     ]
    }
   ],
   "source": [
    "text = open('./test_data/jijil.txt','r')\n",
    "total = ''\n",
    "from collections import defaultdict\n",
    "line_idx = 1\n",
    "init_len = 0\n",
    "def return_dict():\n",
    "    return {'idx':[], 'ent':[],'rel':[]}\n",
    "line_info = defaultdict(return_dict)\n",
    "line_content = []\n",
    "while True:\n",
    "    line = text.readline()#.rstrip()\n",
    "    if not line:\n",
    "        break\n",
    "    print(line)\n",
    "    line_content.append(line.rstrip())\n",
    "    total += line\n",
    "    line_info[line_idx]['idx'] = (init_len, init_len+len(line))\n",
    "    line_idx += 1\n",
    "    init_len = init_len+len(line)\n",
    "    if not line:\n",
    "        break"
   ]
  },
  {
   "cell_type": "code",
   "execution_count": 73,
   "id": "fe181631-f3c5-4b1d-bf96-eadb05baef7f",
   "metadata": {},
   "outputs": [
    {
     "data": {
      "text/plain": [
       "'지질 시대(地質時代)는 지구가 생긴 이후부터의 지구의 역사를 나타낸다.\\n'"
      ]
     },
     "execution_count": 73,
     "metadata": {},
     "output_type": "execute_result"
    }
   ],
   "source": [
    "total[line_info[1]['idx'][0]:line_info[1]['idx'][1]]"
   ]
  },
  {
   "cell_type": "code",
   "execution_count": 111,
   "id": "8982edc3-3b54-4d49-8b0d-5c003fee8bdf",
   "metadata": {},
   "outputs": [],
   "source": [
    "def where(entities, line_infos):\n",
    "    word_idx = entities['offsets'][0]['start']\n",
    "    line_vals = {i:(line_infos[i]['idx'][0], line_infos[i]['idx'][1]) for i in range(1,len(line_infos)+1)}\n",
    "    for idx, (s_idx, e_idx)  in line_vals.items():\n",
    "        if s_idx<= word_idx < e_idx:\n",
    "            line_infos[idx]['ent'].append(entities)\n",
    "            break\n",
    "    "
   ]
  },
  {
   "cell_type": "code",
   "execution_count": 125,
   "id": "f3ec8621-1d39-4e48-8c74-527794b73451",
   "metadata": {},
   "outputs": [],
   "source": [
    "for ent_num in range(len(json_data['entities'])):\n",
    "    where(json_data['entities'][ent_num], line_info)"
   ]
  },
  {
   "cell_type": "code",
   "execution_count": 120,
   "id": "ea5b5078-65d9-4cdc-a6fa-5b82e03ae94b",
   "metadata": {},
   "outputs": [],
   "source": [
    "# line_info"
   ]
  },
  {
   "cell_type": "code",
   "execution_count": 70,
   "id": "c87c0da7-1de3-409e-9bc2-2c4c75700793",
   "metadata": {},
   "outputs": [
    {
     "data": {
      "text/plain": [
       "[{'classId': 'e_87',\n",
       "  'part': 's1v1',\n",
       "  'offsets': [{'start': 0, 'text': '지질 시대'}],\n",
       "  'coordinates': [],\n",
       "  'confidence': {'state': 'pre-added', 'who': ['user:kimcando'], 'prob': 1},\n",
       "  'fields': {},\n",
       "  'normalizations': {}},\n",
       " {'classId': 'e_181',\n",
       "  'part': 's1v1',\n",
       "  'offsets': [{'start': 6, 'text': '地質時代'}],\n",
       "  'coordinates': [],\n",
       "  'confidence': {'state': 'pre-added', 'who': ['user:kimcando'], 'prob': 1},\n",
       "  'fields': {},\n",
       "  'normalizations': {}}]"
      ]
     },
     "execution_count": 70,
     "metadata": {},
     "output_type": "execute_result"
    }
   ],
   "source": [
    "json_data['entities'][:2]"
   ]
  },
  {
   "cell_type": "code",
   "execution_count": 87,
   "id": "869cf571-dc38-48d8-8331-a429024a141f",
   "metadata": {},
   "outputs": [],
   "source": [
    "# line_info"
   ]
  },
  {
   "cell_type": "code",
   "execution_count": 88,
   "id": "5002c00b-7723-4375-9c3e-657549faa9a8",
   "metadata": {},
   "outputs": [
    {
     "data": {
      "text/plain": [
       "['s1v1|e_91|183,184', 's1v1|e_145|207,215']"
      ]
     },
     "execution_count": 88,
     "metadata": {},
     "output_type": "execute_result"
    }
   ],
   "source": [
    "json_data['relations'][0]['entities']"
   ]
  },
  {
   "cell_type": "code",
   "execution_count": 93,
   "id": "08e5adcf-27c3-4e13-b765-4cb0ad81e75f",
   "metadata": {},
   "outputs": [
    {
     "data": {
      "text/plain": [
       "['207', '215']"
      ]
     },
     "execution_count": 93,
     "metadata": {},
     "output_type": "execute_result"
    }
   ],
   "source": [
    "rel_idx = 0\n",
    "rel_ent_idx = 1\n",
    "json_data['relations'][rel_idx]['entities'][rel_ent_idx].split('|')[-1].split(',')"
   ]
  },
  {
   "cell_type": "code",
   "execution_count": 126,
   "id": "0025b86b-7f18-47f4-b8fd-fa5f73fe4554",
   "metadata": {},
   "outputs": [],
   "source": [
    "import copy\n",
    "# entities = copy.deepcopy(json_data['relations'])\n",
    "for rel_idx in range(len(json_data['relations'])):\n",
    "    # 각 단어의 start num\n",
    "    f_start, _ = return_idx(json_data['relations'][rel_idx], 0)\n",
    "    s_start, _ = return_idx(json_data['relations'][rel_idx], 1)\n",
    "    line_vals = {i:(line_info[i]['idx'][0], line_info[i]['idx'][1]) for i in range(1,len(line_info)+1)}\n",
    "    \n",
    "    for idx, (s_idx, e_idx)  in line_vals.items():\n",
    "        if s_idx<= f_start < e_idx:\n",
    "            line_info[idx]['rel'].append(json_data['relations'][rel_idx])\n",
    "            assert s_idx<= s_start < e_idx\n",
    "            break"
   ]
  },
  {
   "cell_type": "code",
   "execution_count": 96,
   "id": "52957b93-38e7-4454-8093-488509f9e70c",
   "metadata": {},
   "outputs": [
    {
     "data": {
      "text/plain": [
       "(183, 184)"
      ]
     },
     "execution_count": 96,
     "metadata": {},
     "output_type": "execute_result"
    }
   ],
   "source": [
    "def return_idx(relations, rel_ent_idx):\n",
    "    vals = relations['entities'][rel_ent_idx].split('|')[-1].split(',')\n",
    "    return int(vals[0]), int(vals[1])\n",
    "\n",
    "return_idx(json_data['relations'][rel_idx], 0)\n",
    "    \n",
    "    "
   ]
  },
  {
   "cell_type": "code",
   "execution_count": 128,
   "id": "cd655877-61e5-4b6d-a0d2-2b63cdbb121e",
   "metadata": {},
   "outputs": [],
   "source": [
    "with open('./test_data/annotations-legend.json') as f:\n",
    "    relation_map = json.load(f)"
   ]
  },
  {
   "cell_type": "code",
   "execution_count": 142,
   "id": "f535b23b-1094-458d-8722-f1956017d0d3",
   "metadata": {},
   "outputs": [
    {
     "data": {
      "text/plain": [
       "'SUBJ-DAT-alter_name'"
      ]
     },
     "execution_count": 142,
     "metadata": {},
     "output_type": "execute_result"
    }
   ],
   "source": [
    "relation_map['e_87']"
   ]
  },
  {
   "cell_type": "code",
   "execution_count": 129,
   "id": "247412a1-0efe-4c7f-a5b8-73201b3a0f3d",
   "metadata": {},
   "outputs": [
    {
     "data": {
      "text/plain": [
       "{'idx': (0, 40),\n",
       " 'ent': [{'classId': 'e_87',\n",
       "   'part': 's1v1',\n",
       "   'offsets': [{'start': 0, 'text': '지질 시대'}],\n",
       "   'coordinates': [],\n",
       "   'confidence': {'state': 'pre-added', 'who': ['user:kimcando'], 'prob': 1},\n",
       "   'fields': {},\n",
       "   'normalizations': {}},\n",
       "  {'classId': 'e_181',\n",
       "   'part': 's1v1',\n",
       "   'offsets': [{'start': 6, 'text': '地質時代'}],\n",
       "   'coordinates': [],\n",
       "   'confidence': {'state': 'pre-added', 'who': ['user:kimcando'], 'prob': 1},\n",
       "   'fields': {},\n",
       "   'normalizations': {}}],\n",
       " 'rel': [{'classId': 'r_183',\n",
       "   'type': 'linked',\n",
       "   'directed': False,\n",
       "   'entities': ['s1v1|e_87|0,4', 's1v1|e_181|6,9'],\n",
       "   'confidence': {'state': 'pre-added', 'who': ['user:kimcando'], 'prob': 1}}]}"
      ]
     },
     "execution_count": 129,
     "metadata": {},
     "output_type": "execute_result"
    }
   ],
   "source": [
    "line_info[1]"
   ]
  },
  {
   "cell_type": "code",
   "execution_count": 148,
   "id": "cc344df3-56fd-46fd-9328-0919874d8297",
   "metadata": {},
   "outputs": [
    {
     "data": {
      "text/plain": [
       "'s1v1|e_87|0,4'"
      ]
     },
     "execution_count": 148,
     "metadata": {},
     "output_type": "execute_result"
    }
   ],
   "source": [
    "line_info[1]['rel'][0]['entities'][0]"
   ]
  },
  {
   "cell_type": "code",
   "execution_count": null,
   "id": "9509eff6-10c2-41aa-be4e-aa5d5080a084",
   "metadata": {},
   "outputs": [],
   "source": [
    "# relation_map[line_info[1]['ent'][0]['classId']].split('-')\n",
    "\n",
    "total_num_rel = len(line_info[1]['rel'])\n",
    "sentence_info = []\n",
    "for num_ent in range(total_num_rel):\n",
    "    # relation 각각의 원소는 2개씩만 가지니까\n",
    "    # 첫번째\n",
    "    first_ent_idxs = line_info[1]['rel'][num_ent]['entities'][0].split('|')[-1].split(',')\n",
    "    first_ent_leg = line_info[1]['rel'][num_ent]['entities'][0].split('|')[1]\n",
    "    \n",
    "    # 두번째\n",
    "    second_ent_idxs = line_info[1]['rel'][num_ent]['entities'][1].split('|')[-1].split(',')\n",
    "    second_ent_leg = line_info[1]['rel'][num_ent]['entities'][1].split('|')[1]\n",
    "    \n",
    "    f_idx, s_idx = int(first_ent_idxs[0]), int(second_ent_idxs[0])\n",
    "    # line_content[1][f_f_idx:f_s_idx]\n",
    "    del_list = []\n",
    "    for e_idx, entity in enumerate(line_info[1]['ent']):\n",
    "        if (entity['classId'], int(entity['offsets'][0]['start'])) == (first_ent_leg, f_idx):\n",
    "            first_info = relation_map[entity['classId']].split('-')\n",
    "            first_info.append(entity['offsets'][0]['text'])\n",
    "            first_info.append((f_idx, f_idx+ len(entity['offsets'][0]['text'])-1))\n",
    "            \n",
    "            del_list.append(e_idx)\n",
    "        elif (entity['classId'], int(entity['offsets'][0]['start'])) == (second_ent_leg, s_idx):\n",
    "            second_info = relation_map[entity['classId']].split('-')\n",
    "            second_info.append(entity['offsets'][0]['text'])\n",
    "            second_info.append((s_idx, s_idx+ len(entity['offsets'][0]['text'])-1))\n",
    "            \n",
    "            del_list.append(e_idx)\n",
    "        else:\n",
    "            raise NotImplementedError\n",
    "        \n",
    "    if first_info[0] =='SUBJ':\n",
    "        subj_info = first_info\n",
    "        obj_info = second_info\n",
    "    elif first_inf[0] =='OBJ':\n",
    "        subj_info = second_info\n",
    "        obj_info = first_info\n",
    "    else:\n",
    "        raise NotImplementedError\n",
    "    \n",
    "    # relation 처리\n",
    "    assert subj_info[2] == obj_info[2]\n",
    "    rel_name = subj_info[2]\n",
    "\n",
    "# 다하고나서 entity 길이에서 del_list 빼서 0이 아니면 걔네는 no_relation\n",
    "total_ent = [i for i in range(len(line_info[1]['ent']))]\n",
    "left_ent = list(set(total_ent)-set(del_list))\n",
    "\n",
    "if left_ent:\n",
    "    # 저기 SUBJ, OBJ 처리 동일하게 하고\n",
    "    rel_name='no_relation'\n",
    "    \n",
    "            \n",
    "    \n",
    "    \n",
    "    \n",
    "    # rel_name = relation_map[line_info[1]['ent'][num_ent]['classId']].split('-')[-1]\n",
    "    \n",
    "    # rel_type2 = relation_map[line_info[1]['ent'][1]['classId']].split('-')[-1]\n",
    "    # assert rel_type == rel_type2\n",
    "print(relation_map[line_info[1]['ent'][0]['classId']].split('-'))\n",
    "# print(rel_type1)\n",
    "# if rel_type1[0] =='SUBJ':\n",
    "    "
   ]
  },
  {
   "cell_type": "code",
   "execution_count": 161,
   "id": "b43593a6-e100-4a75-8362-26c2f4e76385",
   "metadata": {},
   "outputs": [
    {
     "data": {
      "text/plain": [
       "['SUBJ', 'DAT', 'alter_name', '지질 시대', (0, 4)]"
      ]
     },
     "execution_count": 161,
     "metadata": {},
     "output_type": "execute_result"
    }
   ],
   "source": [
    "subj_info"
   ]
  },
  {
   "cell_type": "code",
   "execution_count": 160,
   "id": "d9c2f733-95f3-4e7a-8b0e-ce47b8f2c27b",
   "metadata": {},
   "outputs": [
    {
     "data": {
      "text/plain": [
       "[]"
      ]
     },
     "execution_count": 160,
     "metadata": {},
     "output_type": "execute_result"
    }
   ],
   "source": [
    "list(set(total_ent)-set(del_list))"
   ]
  },
  {
   "cell_type": "code",
   "execution_count": 164,
   "id": "915a5f23-c0b4-4d2b-926d-4d2b336c9dd3",
   "metadata": {},
   "outputs": [
    {
     "data": {
      "text/plain": [
       "{'sentence': '지질 시대(地質時代)는 지구가 생긴 이후부터의 지구의 역사를 나타낸다.',\n",
       " 'subject_entity': {'word': '지질 시대',\n",
       "  'start_idx': 0,\n",
       "  'end_idx': 4,\n",
       "  'type': 'DAT'},\n",
       " 'oject_entity': {'word': '地質時代', 'start_idx': 6, 'end_idx': 9, 'type': 'DAT'},\n",
       " 'label': 'alter_name'}"
      ]
     },
     "execution_count": 164,
     "metadata": {},
     "output_type": "execute_result"
    }
   ],
   "source": [
    "# id, sentence, subject_entity, object_entity, label\n",
    "idx = 1\n",
    "\n",
    "\n",
    "test={\n",
    "'sentence': line_content[idx - 1],\n",
    "'subject_entity': {'word': subj_info[-2], 'start_idx': subj_info[-1][0], 'end_idx':subj_info[-1][1], 'type':subj_info[1]},\n",
    "'oject_entity': {'word': obj_info[-2], 'start_idx': obj_info[-1][0], 'end_idx':obj_info[-1][1], 'type':obj_info[1]},\n",
    "'label': rel_name\n",
    "}\n",
    "test"
   ]
  },
  {
   "cell_type": "code",
   "execution_count": 127,
   "id": "facd4e5a-8d10-41db-b12f-05fc1fea99aa",
   "metadata": {},
   "outputs": [
    {
     "data": {
      "text/plain": [
       "defaultdict(<function __main__.return_dict()>,\n",
       "            {1: {'idx': (0, 40),\n",
       "              'ent': [{'classId': 'e_87',\n",
       "                'part': 's1v1',\n",
       "                'offsets': [{'start': 0, 'text': '지질 시대'}],\n",
       "                'coordinates': [],\n",
       "                'confidence': {'state': 'pre-added',\n",
       "                 'who': ['user:kimcando'],\n",
       "                 'prob': 1},\n",
       "                'fields': {},\n",
       "                'normalizations': {}},\n",
       "               {'classId': 'e_181',\n",
       "                'part': 's1v1',\n",
       "                'offsets': [{'start': 6, 'text': '地質時代'}],\n",
       "                'coordinates': [],\n",
       "                'confidence': {'state': 'pre-added',\n",
       "                 'who': ['user:kimcando'],\n",
       "                 'prob': 1},\n",
       "                'fields': {},\n",
       "                'normalizations': {}}],\n",
       "              'rel': [{'classId': 'r_183',\n",
       "                'type': 'linked',\n",
       "                'directed': False,\n",
       "                'entities': ['s1v1|e_87|0,4', 's1v1|e_181|6,9'],\n",
       "                'confidence': {'state': 'pre-added',\n",
       "                 'who': ['user:kimcando'],\n",
       "                 'prob': 1}}]},\n",
       "             2: {'idx': (40, 69),\n",
       "              'ent': [{'classId': 'e_88',\n",
       "                'part': 's1v1',\n",
       "                'offsets': [{'start': 46, 'text': '국제 층서 위원회'}],\n",
       "                'coordinates': [],\n",
       "                'confidence': {'state': 'pre-added',\n",
       "                 'who': ['user:kimcando'],\n",
       "                 'prob': 1},\n",
       "                'fields': {},\n",
       "                'normalizations': {}},\n",
       "               {'classId': 'e_136',\n",
       "                'part': 's1v1',\n",
       "                'offsets': [{'start': 57, 'text': '시대'}],\n",
       "                'coordinates': [],\n",
       "                'confidence': {'state': 'pre-added',\n",
       "                 'who': ['user:kimcando'],\n",
       "                 'prob': 1},\n",
       "                'fields': {},\n",
       "                'normalizations': {}}],\n",
       "              'rel': []},\n",
       "             3: {'idx': (69, 108),\n",
       "              'ent': [{'classId': 'e_88',\n",
       "                'part': 's1v1',\n",
       "                'offsets': [{'start': 75, 'text': '시대에 사용된 색'}],\n",
       "                'coordinates': [],\n",
       "                'confidence': {'state': 'pre-added',\n",
       "                 'who': ['user:kimcando'],\n",
       "                 'prob': 1},\n",
       "                'fields': {},\n",
       "                'normalizations': {}},\n",
       "               {'classId': 'e_88',\n",
       "                'part': 's1v1',\n",
       "                'offsets': [{'start': 97, 'text': '표준색상'}],\n",
       "                'coordinates': [],\n",
       "                'confidence': {'state': 'pre-added',\n",
       "                 'who': ['user:kimcando'],\n",
       "                 'prob': 1},\n",
       "                'fields': {},\n",
       "                'normalizations': {}}],\n",
       "              'rel': []},\n",
       "             4: {'idx': (108, 154),\n",
       "              'ent': [{'classId': 'e_197',\n",
       "                'part': 's1v1',\n",
       "                'offsets': [{'start': 119, 'text': '지구'}],\n",
       "                'coordinates': [],\n",
       "                'confidence': {'state': 'pre-added',\n",
       "                 'who': ['user:kimcando'],\n",
       "                 'prob': 1},\n",
       "                'fields': {},\n",
       "                'normalizations': {}},\n",
       "               {'classId': 'e_181',\n",
       "                'part': 's1v1',\n",
       "                'offsets': [{'start': 125, 'text': '45억 7천만 년 전'}],\n",
       "                'coordinates': [],\n",
       "                'confidence': {'state': 'pre-added',\n",
       "                 'who': ['user:kimcando'],\n",
       "                 'prob': 1},\n",
       "                'fields': {},\n",
       "                'normalizations': {}}],\n",
       "              'rel': []},\n",
       "             5: {'idx': (154, 181),\n",
       "              'ent': [{'classId': 'e_197',\n",
       "                'part': 's1v1',\n",
       "                'offsets': [{'start': 154, 'text': '지구'}],\n",
       "                'coordinates': [],\n",
       "                'confidence': {'state': 'pre-added',\n",
       "                 'who': ['user:kimcando'],\n",
       "                 'prob': 1},\n",
       "                'fields': {},\n",
       "                'normalizations': {}},\n",
       "               {'classId': 'e_88',\n",
       "                'part': 's1v1',\n",
       "                'offsets': [{'start': 158, 'text': '역사'}],\n",
       "                'coordinates': [],\n",
       "                'confidence': {'state': 'pre-added',\n",
       "                 'who': ['user:kimcando'],\n",
       "                 'prob': 1},\n",
       "                'fields': {},\n",
       "                'normalizations': {}}],\n",
       "              'rel': []},\n",
       "             6: {'idx': (181, 231),\n",
       "              'ent': [{'classId': 'e_91',\n",
       "                'part': 's1v1',\n",
       "                'offsets': [{'start': 183, 'text': '시대'}],\n",
       "                'coordinates': [],\n",
       "                'confidence': {'state': 'pre-added',\n",
       "                 'who': ['user:kimcando'],\n",
       "                 'prob': 1},\n",
       "                'fields': {},\n",
       "                'normalizations': {}},\n",
       "               {'classId': 'e_145',\n",
       "                'part': 's1v1',\n",
       "                'offsets': [{'start': 207, 'text': '생물의 대량 멸종'}],\n",
       "                'coordinates': [],\n",
       "                'confidence': {'state': 'pre-added',\n",
       "                 'who': ['user:kimcando'],\n",
       "                 'prob': 1},\n",
       "                'fields': {},\n",
       "                'normalizations': {}}],\n",
       "              'rel': [{'classId': 'r_155',\n",
       "                'type': 'linked',\n",
       "                'directed': False,\n",
       "                'entities': ['s1v1|e_91|183,184', 's1v1|e_145|207,215'],\n",
       "                'confidence': {'state': 'pre-added',\n",
       "                 'who': ['user:kimcando'],\n",
       "                 'prob': 1}}]},\n",
       "             7: {'idx': (231, 271),\n",
       "              'ent': [{'classId': 'e_91',\n",
       "                'part': 's1v1',\n",
       "                'offsets': [{'start': 235, 'text': '백악기'}],\n",
       "                'coordinates': [],\n",
       "                'confidence': {'state': 'pre-added',\n",
       "                 'who': ['user:kimcando'],\n",
       "                 'prob': 1},\n",
       "                'fields': {},\n",
       "                'normalizations': {}},\n",
       "               {'classId': 'e_145',\n",
       "                'part': 's1v1',\n",
       "                'offsets': [{'start': 246, 'text': '공룡 멸종'}],\n",
       "                'coordinates': [],\n",
       "                'confidence': {'state': 'pre-added',\n",
       "                 'who': ['user:kimcando'],\n",
       "                 'prob': 1},\n",
       "                'fields': {},\n",
       "                'normalizations': {}}],\n",
       "              'rel': [{'classId': 'r_155',\n",
       "                'type': 'linked',\n",
       "                'directed': False,\n",
       "                'entities': ['s1v1|e_91|235,237', 's1v1|e_145|246,250'],\n",
       "                'confidence': {'state': 'pre-added',\n",
       "                 'who': ['user:kimcando'],\n",
       "                 'prob': 1}}]}})"
      ]
     },
     "execution_count": 127,
     "metadata": {},
     "output_type": "execute_result"
    }
   ],
   "source": [
    "line_info"
   ]
  },
  {
   "cell_type": "code",
   "execution_count": 182,
   "id": "b427bc54-e9b9-469a-8934-b5093b50a87d",
   "metadata": {},
   "outputs": [],
   "source": [
    "html_file = open(\"/opt/ml/test_data/BoostcampAI-NLP-03/plain.html/pool/a1jEmbSV0D6rKJ.kwmAqpiw1Di40-_____.txt.plain.html\")"
   ]
  },
  {
   "cell_type": "code",
   "execution_count": 183,
   "id": "1c0f374c-dbac-4760-a7cd-fe93a7278b9c",
   "metadata": {},
   "outputs": [],
   "source": [
    "html_content = html_file.read()"
   ]
  },
  {
   "cell_type": "code",
   "execution_count": 184,
   "id": "f18e887e-dfc9-4b31-aad6-bb21311a0933",
   "metadata": {},
   "outputs": [
    {
     "data": {
      "text/plain": [
       "'<!DOCTYPE html >\\n<html id=\"a1jEmbSV0D6rKJ.kwmAqpiw1Di40-_____.txt\" data-origid=\"초식 동물.txt\" class=\"anndoc\" data-anndoc-version=\"3.6\" lang=\"\" xml:lang=\"\" xmlns=\"http://www.w3.org/1999/xhtml\">\\n  <head>\\n    <meta charset=\"UTF-8\"/>\\n    <meta name=\"generator\" content=\"net.tagtog.anndoc.v3.parsers.general.VerbatimParser_v1_0_1\"/>\\n    <title>a1jEmbSV0D6rKJ.kwmAqpiw1Di40-_____.txt</title>\\n  </head>\\n  <body>\\n    <article>\\n      <section data-type=\"\">\\n        <div class=\"content\">\\n          <pre id=\"s1v1\">초식 동물( 영어: herbivore)은 풀을 먹이로 하는 동물을 말한다.\\n초식 동물은 식물, 조류, 광합성을 하는 세균 등 자가영양생물을 주로 먹는 소비 형태를 지닌다.\\n식물들은 광합성을 통해 탄수화물을 만들어내는데, 초식 동물들은 이러한 탄수화물을 얻기 위하여 식물을 소비함으로써 먹이 사슬에서 중요한 고리를 형성한다.\\n반대로 육식 동물들은 이와 같은 까닭으로 초식 동물들을 잡아먹으며, 잡식 동물들은 식물이나 초식 동물로부터 영양분을 얻는다.\\n초식 동물이 질긴 섬유식물에 의지하여 홀로 살아남는 능력이 있으므로 자가영양생물을 먹는 생물들은 일반적으로 먹이 사슬에서 1차 소비자(primary consumer)라는 이름이 붙었다.\\n</pre>\\n        </div>\\n      </section>\\n    </article>\\n  </body>\\n</html>\\n'"
      ]
     },
     "execution_count": 184,
     "metadata": {},
     "output_type": "execute_result"
    }
   ],
   "source": [
    "html_content"
   ]
  },
  {
   "cell_type": "code",
   "execution_count": 195,
   "id": "03adb043-834e-4a27-a456-3eeceaed3471",
   "metadata": {},
   "outputs": [
    {
     "data": {
      "text/plain": [
       "91"
      ]
     },
     "execution_count": 195,
     "metadata": {},
     "output_type": "execute_result"
    }
   ],
   "source": [
    "html_content.find('class=')"
   ]
  },
  {
   "cell_type": "code",
   "execution_count": 203,
   "id": "89fb5025-f6a4-40c3-8976-2cf1e25e8dcc",
   "metadata": {},
   "outputs": [],
   "source": [
    "start = html_content.find('data-origid=')+len('data-origid=')\n",
    "end = html_content.find('class=')-1"
   ]
  },
  {
   "cell_type": "code",
   "execution_count": 204,
   "id": "97490889-3aff-4643-b8ae-0c9d46fee049",
   "metadata": {},
   "outputs": [
    {
     "data": {
      "text/plain": [
       "'\"초식 동물.txt\"'"
      ]
     },
     "execution_count": 204,
     "metadata": {},
     "output_type": "execute_result"
    }
   ],
   "source": [
    "html_content[start:end]"
   ]
  },
  {
   "cell_type": "code",
   "execution_count": 206,
   "id": "388e3ec8-3278-470e-904f-5f8c27a94c11",
   "metadata": {},
   "outputs": [
    {
     "data": {
      "text/plain": [
       "'초식 동물.txt'"
      ]
     },
     "execution_count": 206,
     "metadata": {},
     "output_type": "execute_result"
    }
   ],
   "source": [
    "eval(html_content[start:end])"
   ]
  },
  {
   "cell_type": "code",
   "execution_count": 187,
   "id": "3d1085d8-63f6-4bfd-addf-3aeb272e52a4",
   "metadata": {},
   "outputs": [
    {
     "data": {
      "text/plain": [
       "'i'"
      ]
     },
     "execution_count": 187,
     "metadata": {},
     "output_type": "execute_result"
    }
   ],
   "source": [
    "id_start = html_content.find('id')+4\n",
    "txt_end = html_content.find('txt')+\n",
    "html_content[23]"
   ]
  },
  {
   "cell_type": "code",
   "execution_count": 178,
   "id": "a5af3396-c6b7-4496-ad8d-c4aadc60642f",
   "metadata": {},
   "outputs": [],
   "source": [
    "from lxml import etree\n",
    "parsed_html = etree.HTML(html_content)"
   ]
  },
  {
   "cell_type": "code",
   "execution_count": 176,
   "id": "3c1fe6b6-1994-4818-9076-dd7cdd8fb899",
   "metadata": {},
   "outputs": [
    {
     "name": "stdout",
     "output_type": "stream",
     "text": [
      "Collecting lxml\n",
      "  Downloading lxml-4.8.0-cp38-cp38-manylinux_2_17_x86_64.manylinux2014_x86_64.manylinux_2_24_x86_64.whl (6.9 MB)\n",
      "\u001b[K     |████████████████████████████████| 6.9 MB 17.8 MB/s eta 0:00:01\n",
      "\u001b[?25hInstalling collected packages: lxml\n",
      "Successfully installed lxml-4.8.0\n"
     ]
    }
   ],
   "source": [
    "!pip install lxml"
   ]
  },
  {
   "cell_type": "code",
   "execution_count": 209,
   "id": "5e172c24-222a-4b68-8828-28dd26e7fd00",
   "metadata": {},
   "outputs": [],
   "source": [
    "import glob"
   ]
  },
  {
   "cell_type": "code",
   "execution_count": 210,
   "id": "69ad9bbc-0655-4af8-a08b-4dafd9ebee76",
   "metadata": {},
   "outputs": [],
   "source": [
    "json = glob.glob(\"/opt/ml/test_data/BoostcampAI-NLP-03/ann.json/master/pool/*.json\")"
   ]
  },
  {
   "cell_type": "code",
   "execution_count": 213,
   "id": "cb0dd76f-1b39-4a05-be01-799ee9ed8526",
   "metadata": {},
   "outputs": [],
   "source": [
    "html = glob.glob(\"/opt/ml/test_data/BoostcampAI-NLP-03/plain.html/pool/*.html\")"
   ]
  },
  {
   "cell_type": "code",
   "execution_count": 217,
   "id": "19bac22c-b930-44ac-91dc-ec9dd6b72970",
   "metadata": {},
   "outputs": [],
   "source": [
    "json.sort()\n",
    "html.sort()"
   ]
  },
  {
   "cell_type": "code",
   "execution_count": 223,
   "id": "5625e50b-c1fc-4fb6-a9dd-046449e9e354",
   "metadata": {},
   "outputs": [
    {
     "data": {
      "text/plain": [
       "['a.2x_HPONPCrJHCuI90nD1X05w4q', '___________.txt.plain.html']"
      ]
     },
     "execution_count": 223,
     "metadata": {},
     "output_type": "execute_result"
    }
   ],
   "source": [
    "html[0].split('/')[-1].split('-')"
   ]
  },
  {
   "cell_type": "code",
   "execution_count": 222,
   "id": "b20142a0-8a56-4d26-8f49-3d2034a6fad8",
   "metadata": {},
   "outputs": [
    {
     "data": {
      "text/plain": [
       "'/opt/ml/test_data/BoostcampAI-NLP-03/ann.json/master/pool/a.2x_HPONPCrJHCuI90nD1X05w4q-___________.txt.ann.json'"
      ]
     },
     "execution_count": 222,
     "metadata": {},
     "output_type": "execute_result"
    }
   ],
   "source": [
    "json[0]"
   ]
  },
  {
   "cell_type": "code",
   "execution_count": 230,
   "id": "ef3579c9-34e2-4584-aa3e-82f279e96073",
   "metadata": {},
   "outputs": [
    {
     "data": {
      "text/plain": [
       "'a.2x_HPONPCrJHCuI90nD1X05w4q-___________.txt.'"
      ]
     },
     "execution_count": 230,
     "metadata": {},
     "output_type": "execute_result"
    }
   ],
   "source": [
    "json[0].split('/')[-1].split('ann')[0]"
   ]
  },
  {
   "cell_type": "code",
   "execution_count": 229,
   "id": "4e020447-5036-41cc-bbfc-b6e247b1516f",
   "metadata": {},
   "outputs": [
    {
     "data": {
      "text/plain": [
       "'a.2x_HPONPCrJHCuI90nD1X05w4q-___________.txt.'"
      ]
     },
     "execution_count": 229,
     "metadata": {},
     "output_type": "execute_result"
    }
   ],
   "source": [
    "html[0].split('/')[-1].split('plain')[0]"
   ]
  },
  {
   "cell_type": "code",
   "execution_count": 232,
   "id": "b236f4f2-a7c7-4ee5-9cf6-1793a572736f",
   "metadata": {},
   "outputs": [
    {
     "data": {
      "text/plain": [
       "'국제 자연 보전 연맹.txt'"
      ]
     },
     "execution_count": 232,
     "metadata": {},
     "output_type": "execute_result"
    }
   ],
   "source": [
    "html_file = open(html[0])\n",
    "html_content = html_file.read()\n",
    "start = html_content.find('data-origid=')+len('data-origid=')\n",
    "end = html_content.find('class=')-1\n",
    "eval(html_content[start:end])"
   ]
  },
  {
   "cell_type": "code",
   "execution_count": 234,
   "id": "85215601-4a4f-41ec-b374-7235f4bfc842",
   "metadata": {},
   "outputs": [],
   "source": [
    "import os\n",
    "file = open(os.path.join('/opt/ml/test_data/raw_data', eval(html_content[start:end])))"
   ]
  },
  {
   "cell_type": "code",
   "execution_count": 236,
   "id": "d02c850f-ea5a-4e2d-874a-80d3b8105fe7",
   "metadata": {},
   "outputs": [
    {
     "data": {
      "text/plain": [
       "'국제자연보전연맹()은 전 세계 자원 및 자연 보호를 위하여 유엔의 지원을 받아 1948년에 국제 기구로 설립하였다.\\n현재는 국가, 정부 기관 및 NGO의 연합체 형태로 발전한 세계 최대 규모의 환경 단체이다.\\n자원과 자연의 관리 및 동식물 멸종 방지를 위한 국제간의 협력 증진을 도모하며, 야생동물과 야생식물의 서식지나 자생지 또는 학술적 연구 대상이 되는 자연을 보호하기 위해 자연 보호 전략을 마련하여 회원국에 배포하고 있다.\\n1911년 미국, 캐나다, 러시아, 일본을 중심으로 보호 회의(ICBP)를 창설하였고, 1928년에 국제 자연 보존 연맹을 결성하였으며, 그 산하에 국제 자연 보호 사무국을 설치하였다.\\n제2차 세계 대전으로 자연 환경의 파괴가 심각한 문제로 대두하자 세계 각국은 파리 회담을 열고 유엔의 지원으로 1948년 국제 기구로 정식 발족했다.\\n1948년에 설립되었으며 본부는 스위스의 제네바 인근의 글랑에 위치해 있다.\\nIUCN은 국가회원(87개국), 정부기관(117개), 비정부기구(919개), 및 제휴(협력)기관(33개) 등 총 1,156개 회원 기관, 단체와 11,000여 명의 전문가가 활동하고 있다.(2011년 7월 기준)\\n'"
      ]
     },
     "execution_count": 236,
     "metadata": {},
     "output_type": "execute_result"
    }
   ],
   "source": [
    "file.read()"
   ]
  },
  {
   "cell_type": "code",
   "execution_count": null,
   "id": "92ac1a31-36c6-434b-b8a0-1f6cde2585c6",
   "metadata": {},
   "outputs": [],
   "source": []
  }
 ],
 "metadata": {
  "kernelspec": {
   "display_name": "Python 3 (ipykernel)",
   "language": "python",
   "name": "python3"
  },
  "language_info": {
   "codemirror_mode": {
    "name": "ipython",
    "version": 3
   },
   "file_extension": ".py",
   "mimetype": "text/x-python",
   "name": "python",
   "nbconvert_exporter": "python",
   "pygments_lexer": "ipython3",
   "version": "3.8.5"
  }
 },
 "nbformat": 4,
 "nbformat_minor": 5
}
